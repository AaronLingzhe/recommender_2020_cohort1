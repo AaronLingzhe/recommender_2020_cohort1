{
 "cells": [
  {
   "cell_type": "markdown",
   "metadata": {},
   "source": [
    " Import Library"
   ]
  },
  {
   "cell_type": "code",
   "execution_count": 89,
   "metadata": {},
   "outputs": [],
   "source": [
    "import pandas as pd \n",
    "import numpy as np\n",
    "from sklearn.feature_extraction.text import TfidfVectorizer"
   ]
  },
  {
   "cell_type": "markdown",
   "metadata": {},
   "source": [
    "## Convert the pictures (item) below into item characters"
   ]
  },
  {
   "cell_type": "code",
   "execution_count": 118,
   "metadata": {},
   "outputs": [
    {
     "data": {
      "text/html": [
       "<div>\n",
       "<style scoped>\n",
       "    .dataframe tbody tr th:only-of-type {\n",
       "        vertical-align: middle;\n",
       "    }\n",
       "\n",
       "    .dataframe tbody tr th {\n",
       "        vertical-align: top;\n",
       "    }\n",
       "\n",
       "    .dataframe thead th {\n",
       "        text-align: right;\n",
       "    }\n",
       "</style>\n",
       "<table border=\"1\" class=\"dataframe\">\n",
       "  <thead>\n",
       "    <tr style=\"text-align: right;\">\n",
       "      <th></th>\n",
       "      <th>id</th>\n",
       "      <th>description</th>\n",
       "    </tr>\n",
       "  </thead>\n",
       "  <tbody>\n",
       "    <tr>\n",
       "      <th>0</th>\n",
       "      <td>1</td>\n",
       "      <td>blue short-sleeve shirts for man</td>\n",
       "    </tr>\n",
       "    <tr>\n",
       "      <th>1</th>\n",
       "      <td>2</td>\n",
       "      <td>black long-sleeve shirts for man</td>\n",
       "    </tr>\n",
       "    <tr>\n",
       "      <th>2</th>\n",
       "      <td>3</td>\n",
       "      <td>black short-sleeve shirts with dotted for man</td>\n",
       "    </tr>\n",
       "    <tr>\n",
       "      <th>3</th>\n",
       "      <td>4</td>\n",
       "      <td>blue t-shirts for woman</td>\n",
       "    </tr>\n",
       "    <tr>\n",
       "      <th>4</th>\n",
       "      <td>5</td>\n",
       "      <td>long-sleeve floral shirts for woman</td>\n",
       "    </tr>\n",
       "  </tbody>\n",
       "</table>\n",
       "</div>"
      ],
      "text/plain": [
       "   id                                    description\n",
       "0   1               blue short-sleeve shirts for man\n",
       "1   2               black long-sleeve shirts for man\n",
       "2   3  black short-sleeve shirts with dotted for man\n",
       "3   4                        blue t-shirts for woman\n",
       "4   5            long-sleeve floral shirts for woman"
      ]
     },
     "execution_count": 118,
     "metadata": {},
     "output_type": "execute_result"
    }
   ],
   "source": [
    "ds = pd.DataFrame({'id': [1,2,3,4,5],\n",
    "            'description':['blue short-sleeve shirts for man', \n",
    "           'black long-sleeve shirts for man', \n",
    "           'black short-sleeve shirts with dotted for man', \n",
    "           'blue t-shirts for woman', \n",
    "           'long-sleeve floral shirts for woman']})\n",
    "\n",
    "ds"
   ]
  },
  {
   "cell_type": "markdown",
   "metadata": {},
   "source": [
    "- TF-IDF Vectorizer  \n",
    "The TF*IDF algorithm is used to weigh a keyword in any document and assign the importance to that keyword based on the number of times it appears in the document."
   ]
  },
  {
   "cell_type": "markdown",
   "metadata": {},
   "source": [
    "## Encoding the Data "
   ]
  },
  {
   "cell_type": "markdown",
   "metadata": {},
   "source": [
    "## Method 1"
   ]
  },
  {
   "cell_type": "code",
   "execution_count": 121,
   "metadata": {},
   "outputs": [
    {
     "data": {
      "text/plain": [
       "['black',\n",
       " 'blue',\n",
       " 'dotted',\n",
       " 'floral',\n",
       " 'long',\n",
       " 'man',\n",
       " 'shirts',\n",
       " 'short',\n",
       " 'sleeve',\n",
       " 'woman']"
      ]
     },
     "execution_count": 121,
     "metadata": {},
     "output_type": "execute_result"
    }
   ],
   "source": [
    "tfidf = TfidfVectorizer(stop_words='english')\n",
    "tfidf_matrix = tfidf.fit_transform(ds['description'])\n",
    "tfidf.get_feature_names()"
   ]
  },
  {
   "cell_type": "code",
   "execution_count": 115,
   "metadata": {},
   "outputs": [
    {
     "name": "stdout",
     "output_type": "stream",
     "text": [
      "  (0, 5)\t0.44209452928461\n",
      "  (0, 6)\t0.31455389873014655\n",
      "  (0, 8)\t0.37190385524223485\n",
      "  (0, 7)\t0.5325860467690863\n",
      "  (0, 1)\t0.5325860467690863\n",
      "  (1, 4)\t0.5325860467690863\n",
      "  (1, 0)\t0.5325860467690863\n",
      "  (1, 5)\t0.44209452928461\n",
      "  (1, 6)\t0.31455389873014655\n",
      "  (1, 8)\t0.37190385524223485\n",
      "  (2, 2)\t0.5509158478195675\n",
      "  (2, 0)\t0.4444754371725732\n",
      "  (2, 5)\t0.3689547639624452\n",
      "  (2, 6)\t0.262514353315451\n",
      "  (2, 8)\t0.31037637889268227\n",
      "  (2, 7)\t0.4444754371725732\n",
      "  (3, 9)\t0.652490884512534\n",
      "  (3, 6)\t0.3853716274664007\n",
      "  (3, 1)\t0.652490884512534\n",
      "  (4, 3)\t0.5927348611982239\n",
      "  (4, 9)\t0.47821475385255313\n",
      "  (4, 4)\t0.47821475385255313\n",
      "  (4, 6)\t0.2824413372583483\n",
      "  (4, 8)\t0.3339364815702568\n"
     ]
    }
   ],
   "source": [
    "print(tfidf_matrix)"
   ]
  },
  {
   "cell_type": "markdown",
   "metadata": {},
   "source": [
    "## Method 2"
   ]
  },
  {
   "cell_type": "code",
   "execution_count": 125,
   "metadata": {},
   "outputs": [
    {
     "data": {
      "text/plain": [
       "(5, 35)"
      ]
     },
     "execution_count": 125,
     "metadata": {},
     "output_type": "execute_result"
    }
   ],
   "source": [
    "tfidf = TfidfVectorizer(analyzer='word', ngram_range=(1, 3), min_df=0, stop_words='english')\n",
    "ds['description'] = ds['description'].fillna('')\n",
    "tfidf_matrix = tfidf.fit_transform(ds['description'])\n",
    "\n",
    "tfidf_matrix.shape"
   ]
  },
  {
   "cell_type": "code",
   "execution_count": 110,
   "metadata": {},
   "outputs": [
    {
     "data": {
      "text/plain": [
       "['black',\n",
       " 'black long',\n",
       " 'black long sleeve',\n",
       " 'black short',\n",
       " 'black short sleeve',\n",
       " 'blue',\n",
       " 'blue shirts',\n",
       " 'blue shirts woman',\n",
       " 'blue short',\n",
       " 'blue short sleeve',\n",
       " 'dotted',\n",
       " 'dotted man',\n",
       " 'floral',\n",
       " 'floral shirts',\n",
       " 'floral shirts woman',\n",
       " 'long',\n",
       " 'long sleeve',\n",
       " 'long sleeve floral',\n",
       " 'long sleeve shirts',\n",
       " 'man',\n",
       " 'shirts',\n",
       " 'shirts dotted',\n",
       " 'shirts dotted man',\n",
       " 'shirts man',\n",
       " 'shirts woman',\n",
       " 'short',\n",
       " 'short sleeve',\n",
       " 'short sleeve shirts',\n",
       " 'sleeve',\n",
       " 'sleeve floral',\n",
       " 'sleeve floral shirts',\n",
       " 'sleeve shirts',\n",
       " 'sleeve shirts dotted',\n",
       " 'sleeve shirts man',\n",
       " 'woman']"
      ]
     },
     "execution_count": 110,
     "metadata": {},
     "output_type": "execute_result"
    }
   ],
   "source": [
    "tfidf.get_feature_names()"
   ]
  },
  {
   "cell_type": "code",
   "execution_count": 112,
   "metadata": {},
   "outputs": [
    {
     "data": {
      "text/plain": [
       "0.2976514740312114"
      ]
     },
     "execution_count": 112,
     "metadata": {},
     "output_type": "execute_result"
    }
   ],
   "source": [
    "tfidf_matrix[0,5]"
   ]
  },
  {
   "cell_type": "code",
   "execution_count": 129,
   "metadata": {},
   "outputs": [
    {
     "data": {
      "text/plain": [
       "<5x35 sparse matrix of type '<class 'numpy.float64'>'\n",
       "\twith 57 stored elements in Compressed Sparse Row format>"
      ]
     },
     "execution_count": 129,
     "metadata": {},
     "output_type": "execute_result"
    }
   ],
   "source": [
    "tfidf_matrix[:]"
   ]
  },
  {
   "cell_type": "code",
   "execution_count": 126,
   "metadata": {},
   "outputs": [
    {
     "name": "stdout",
     "output_type": "stream",
     "text": [
      "  (0, 33)\t0.2976514740312114\n",
      "  (0, 27)\t0.2976514740312114\n",
      "  (0, 9)\t0.3689313299600426\n",
      "  (0, 23)\t0.2976514740312114\n",
      "  (0, 31)\t0.24707761140380072\n",
      "  (0, 26)\t0.2976514740312114\n",
      "  (0, 8)\t0.3689313299600426\n",
      "  (0, 19)\t0.24707761140380072\n",
      "  (0, 20)\t0.17579775547496954\n",
      "  (0, 28)\t0.20784947593404896\n",
      "  (0, 25)\t0.2976514740312114\n",
      "  (0, 5)\t0.2976514740312114\n",
      "  (1, 18)\t0.36046710176591584\n",
      "  (1, 2)\t0.36046710176591584\n",
      "  (1, 16)\t0.29082258801930444\n",
      "  (1, 1)\t0.36046710176591584\n",
      "  (1, 15)\t0.29082258801930444\n",
      "  (1, 0)\t0.29082258801930444\n",
      "  (1, 33)\t0.29082258801930444\n",
      "  (1, 23)\t0.29082258801930444\n",
      "  (1, 31)\t0.24140901913540203\n",
      "  (1, 19)\t0.24140901913540203\n",
      "  (1, 20)\t0.17176450538879065\n",
      "  (1, 28)\t0.20308087741321856\n",
      "  (2, 22)\t0.300894473312317\n",
      "  :\t:\n",
      "  (2, 27)\t0.24275976648271158\n",
      "  (2, 31)\t0.20151253556770002\n",
      "  (2, 26)\t0.24275976648271158\n",
      "  (2, 19)\t0.20151253556770002\n",
      "  (2, 20)\t0.1433778287380946\n",
      "  (2, 28)\t0.16951869768336103\n",
      "  (2, 25)\t0.24275976648271158\n",
      "  (3, 7)\t0.48912736236523036\n",
      "  (3, 24)\t0.39462487615995495\n",
      "  (3, 6)\t0.48912736236523036\n",
      "  (3, 34)\t0.39462487615995495\n",
      "  (3, 20)\t0.2330718089312516\n",
      "  (3, 5)\t0.39462487615995495\n",
      "  (4, 14)\t0.33062374134176103\n",
      "  (4, 30)\t0.33062374134176103\n",
      "  (4, 17)\t0.33062374134176103\n",
      "  (4, 13)\t0.33062374134176103\n",
      "  (4, 29)\t0.33062374134176103\n",
      "  (4, 12)\t0.33062374134176103\n",
      "  (4, 24)\t0.26674515273817373\n",
      "  (4, 34)\t0.26674515273817373\n",
      "  (4, 16)\t0.26674515273817373\n",
      "  (4, 15)\t0.26674515273817373\n",
      "  (4, 20)\t0.15754398424474692\n",
      "  (4, 28)\t0.18626764871577145\n"
     ]
    }
   ],
   "source": [
    "print(tfidf_matrix)"
   ]
  },
  {
   "cell_type": "markdown",
   "metadata": {},
   "source": [
    "## Calculation of cosine similarity"
   ]
  },
  {
   "cell_type": "code",
   "execution_count": 133,
   "metadata": {},
   "outputs": [
    {
     "data": {
      "text/plain": [
       "array([[1.        , 0.36482714, 0.37679175, 0.15843418, 0.06641151],\n",
       "       [0.36482714, 1.        , 0.22694714, 0.04003346, 0.22003889],\n",
       "       [0.37679175, 0.22694714, 1.        , 0.03341733, 0.05416416],\n",
       "       [0.15843418, 0.04003346, 0.03341733, 1.        , 0.24724761],\n",
       "       [0.06641151, 0.22003889, 0.05416416, 0.24724761, 1.        ]])"
      ]
     },
     "execution_count": 133,
     "metadata": {},
     "output_type": "execute_result"
    }
   ],
   "source": [
    "from sklearn.metrics.pairwise import linear_kernel\n",
    "cosine_sim = linear_kernel(tfidf_matrix, tfidf_matrix)\n",
    "cosine_sim"
   ]
  },
  {
   "cell_type": "markdown",
   "metadata": {},
   "source": [
    "## Use cosine similarity for the recommendation"
   ]
  },
  {
   "cell_type": "code",
   "execution_count": 134,
   "metadata": {},
   "outputs": [],
   "source": [
    "results = {}\n",
    "for idx, row in ds.iterrows():\n",
    "   similar_indices = cosine_sim[idx].argsort()[:-100:-1] \n",
    "   similar_items = [(round(cosine_sim[idx][i],2), ds['id'][i]) for i in similar_indices] \n",
    "   results[row['id']] = similar_items[1:]"
   ]
  },
  {
   "cell_type": "code",
   "execution_count": 135,
   "metadata": {},
   "outputs": [
    {
     "data": {
      "text/plain": [
       "{1: [(0.38, 3), (0.36, 2), (0.16, 4), (0.07, 5)],\n",
       " 2: [(0.36, 1), (0.23, 3), (0.22, 5), (0.04, 4)],\n",
       " 3: [(0.38, 1), (0.23, 2), (0.05, 5), (0.03, 4)],\n",
       " 4: [(0.25, 5), (0.16, 1), (0.04, 2), (0.03, 3)],\n",
       " 5: [(0.25, 4), (0.22, 2), (0.07, 1), (0.05, 3)]}"
      ]
     },
     "execution_count": 135,
     "metadata": {},
     "output_type": "execute_result"
    }
   ],
   "source": [
    "results"
   ]
  },
  {
   "cell_type": "code",
   "execution_count": null,
   "metadata": {},
   "outputs": [],
   "source": []
  }
 ],
 "metadata": {
  "kernelspec": {
   "display_name": "Python 3",
   "language": "python",
   "name": "python3"
  },
  "language_info": {
   "codemirror_mode": {
    "name": "ipython",
    "version": 3
   },
   "file_extension": ".py",
   "mimetype": "text/x-python",
   "name": "python",
   "nbconvert_exporter": "python",
   "pygments_lexer": "ipython3",
   "version": "3.7.6"
  },
  "toc": {
   "base_numbering": 1,
   "nav_menu": {},
   "number_sections": true,
   "sideBar": true,
   "skip_h1_title": false,
   "title_cell": "Table of Contents",
   "title_sidebar": "Contents",
   "toc_cell": false,
   "toc_position": {},
   "toc_section_display": true,
   "toc_window_display": false
  }
 },
 "nbformat": 4,
 "nbformat_minor": 4
}
