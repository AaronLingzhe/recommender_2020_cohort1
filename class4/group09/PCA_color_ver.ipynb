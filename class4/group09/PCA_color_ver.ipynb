{
 "cells": [
  {
   "cell_type": "code",
   "execution_count": 1,
   "metadata": {},
   "outputs": [],
   "source": [
    "from pathlib import Path\n",
    "import os\n",
    "import pandas as pd\n",
    "import numpy as np\n",
    "\n",
    "from sklearn.metrics.pairwise import cosine_similarity"
   ]
  },
  {
   "cell_type": "code",
   "execution_count": 3,
   "metadata": {},
   "outputs": [
    {
     "data": {
      "text/html": [
       "<div>\n",
       "<style scoped>\n",
       "    .dataframe tbody tr th:only-of-type {\n",
       "        vertical-align: middle;\n",
       "    }\n",
       "\n",
       "    .dataframe tbody tr th {\n",
       "        vertical-align: top;\n",
       "    }\n",
       "\n",
       "    .dataframe thead th {\n",
       "        text-align: right;\n",
       "    }\n",
       "</style>\n",
       "<table border=\"1\" class=\"dataframe\">\n",
       "  <thead>\n",
       "    <tr style=\"text-align: right;\">\n",
       "      <th></th>\n",
       "      <th>color</th>\n",
       "      <th>darkness</th>\n",
       "      <th>flower</th>\n",
       "      <th>gender</th>\n",
       "      <th>shirt-style</th>\n",
       "    </tr>\n",
       "  </thead>\n",
       "  <tbody>\n",
       "    <tr>\n",
       "      <th>0</th>\n",
       "      <td>1</td>\n",
       "      <td>2</td>\n",
       "      <td>0</td>\n",
       "      <td>0</td>\n",
       "      <td>0</td>\n",
       "    </tr>\n",
       "    <tr>\n",
       "      <th>1</th>\n",
       "      <td>2</td>\n",
       "      <td>3</td>\n",
       "      <td>0</td>\n",
       "      <td>0</td>\n",
       "      <td>1</td>\n",
       "    </tr>\n",
       "    <tr>\n",
       "      <th>2</th>\n",
       "      <td>2</td>\n",
       "      <td>4</td>\n",
       "      <td>1</td>\n",
       "      <td>0</td>\n",
       "      <td>0</td>\n",
       "    </tr>\n",
       "    <tr>\n",
       "      <th>3</th>\n",
       "      <td>1</td>\n",
       "      <td>1</td>\n",
       "      <td>0</td>\n",
       "      <td>1</td>\n",
       "      <td>0</td>\n",
       "    </tr>\n",
       "    <tr>\n",
       "      <th>4</th>\n",
       "      <td>3</td>\n",
       "      <td>1</td>\n",
       "      <td>1</td>\n",
       "      <td>1</td>\n",
       "      <td>1</td>\n",
       "    </tr>\n",
       "  </tbody>\n",
       "</table>\n",
       "</div>"
      ],
      "text/plain": [
       "   color  darkness  flower  gender  shirt-style\n",
       "0      1         2       0       0            0\n",
       "1      2         3       0       0            1\n",
       "2      2         4       1       0            0\n",
       "3      1         1       0       1            0\n",
       "4      3         1       1       1            1"
      ]
     },
     "execution_count": 3,
     "metadata": {},
     "output_type": "execute_result"
    }
   ],
   "source": [
    "ft=pd.DataFrame({'color':[1,2,2,1,3],'darkness':[2,3,4,1,1],'flower':[0,0,1,0,1],'gender':[0,0,0,1,1],'shirt-style':[0,1,0,0,1]})\n",
    "ft"
   ]
  },
  {
   "cell_type": "code",
   "execution_count": 1,
   "metadata": {},
   "outputs": [],
   "source": [
    "import numpy as np\n",
    "import pandas as pd\n",
    "from matplotlib import pyplot as plt\n",
    "from sklearn.preprocessing import StandardScaler\n",
    "from sklearn.metrics.cluster import adjusted_rand_score\n",
    "from sklearn.decomposition import PCA\n",
    "\n",
    "import matplotlib.image as mpimg \n",
    "import cv2"
   ]
  },
  {
   "cell_type": "code",
   "execution_count": 5,
   "metadata": {},
   "outputs": [
    {
     "data": {
      "text/plain": [
       "((196, 111, 3), (196, 157, 3), (215, 143, 3), (215, 178, 3), (177, 118, 3))"
      ]
     },
     "execution_count": 5,
     "metadata": {},
     "output_type": "execute_result"
    }
   ],
   "source": [
    "# Read Images \n",
    "img1 = cv2.imread('pic1.png') \n",
    "img2 = cv2.imread('pic2.png') \n",
    "img3 = cv2.imread('pic3.png') \n",
    "img4 = cv2.imread('pic4.png') \n",
    "img5 = cv2.imread('pic5.png') \n",
    "img1.shape, img2.shape, img3.shape, img4.shape, img5.shape"
   ]
  },
  {
   "cell_type": "code",
   "execution_count": 24,
   "metadata": {},
   "outputs": [
    {
     "data": {
      "text/plain": [
       "((114810,), (114810,), (114810,), (114810,), (114810,))"
      ]
     },
     "execution_count": 24,
     "metadata": {},
     "output_type": "execute_result"
    }
   ],
   "source": [
    "#Rescale and flatten the image \n",
    "img1r=cv2.resize(img1, (178,215), interpolation = cv2.INTER_AREA).flatten()\n",
    "img2r=cv2.resize(img2, (178,215), interpolation = cv2.INTER_AREA).flatten()\n",
    "img3r=cv2.resize(img3, (178,215), interpolation = cv2.INTER_AREA).flatten()\n",
    "img4r=cv2.resize(img4, (178,215), interpolation = cv2.INTER_AREA).flatten()\n",
    "img5r=cv2.resize(img5, (178,215), interpolation = cv2.INTER_AREA).flatten()\n",
    "\n",
    "img1r.shape, img2r.shape, img3r.shape, img4r.shape, img5r.shape"
   ]
  },
  {
   "cell_type": "code",
   "execution_count": 25,
   "metadata": {},
   "outputs": [
    {
     "data": {
      "text/plain": [
       "(0, 255)"
      ]
     },
     "execution_count": 25,
     "metadata": {},
     "output_type": "execute_result"
    }
   ],
   "source": [
    "img=np.vstack((img1r,img2r,img3r,img4r,img5r))\n",
    "np.min(img),np.max(img)\n"
   ]
  },
  {
   "cell_type": "code",
   "execution_count": 26,
   "metadata": {},
   "outputs": [
    {
     "data": {
      "text/plain": [
       "(0.0, 1.0)"
      ]
     },
     "execution_count": 26,
     "metadata": {},
     "output_type": "execute_result"
    }
   ],
   "source": [
    "#Standardize \n",
    "img = img/255.0\n",
    "np.min(img),np.max(img)"
   ]
  },
  {
   "cell_type": "code",
   "execution_count": 29,
   "metadata": {},
   "outputs": [
    {
     "data": {
      "text/html": [
       "<div>\n",
       "<style scoped>\n",
       "    .dataframe tbody tr th:only-of-type {\n",
       "        vertical-align: middle;\n",
       "    }\n",
       "\n",
       "    .dataframe tbody tr th {\n",
       "        vertical-align: top;\n",
       "    }\n",
       "\n",
       "    .dataframe thead th {\n",
       "        text-align: right;\n",
       "    }\n",
       "</style>\n",
       "<table border=\"1\" class=\"dataframe\">\n",
       "  <thead>\n",
       "    <tr style=\"text-align: right;\">\n",
       "      <th></th>\n",
       "      <th>pixel0</th>\n",
       "      <th>pixel1</th>\n",
       "      <th>pixel2</th>\n",
       "      <th>pixel3</th>\n",
       "      <th>pixel4</th>\n",
       "      <th>pixel5</th>\n",
       "      <th>pixel6</th>\n",
       "      <th>pixel7</th>\n",
       "      <th>pixel8</th>\n",
       "      <th>pixel9</th>\n",
       "      <th>...</th>\n",
       "      <th>pixel114800</th>\n",
       "      <th>pixel114801</th>\n",
       "      <th>pixel114802</th>\n",
       "      <th>pixel114803</th>\n",
       "      <th>pixel114804</th>\n",
       "      <th>pixel114805</th>\n",
       "      <th>pixel114806</th>\n",
       "      <th>pixel114807</th>\n",
       "      <th>pixel114808</th>\n",
       "      <th>pixel114809</th>\n",
       "    </tr>\n",
       "  </thead>\n",
       "  <tbody>\n",
       "    <tr>\n",
       "      <th>0</th>\n",
       "      <td>1.000000</td>\n",
       "      <td>1.000000</td>\n",
       "      <td>1.000000</td>\n",
       "      <td>1.000000</td>\n",
       "      <td>1.000000</td>\n",
       "      <td>1.000000</td>\n",
       "      <td>1.000000</td>\n",
       "      <td>1.000000</td>\n",
       "      <td>1.000000</td>\n",
       "      <td>1.000000</td>\n",
       "      <td>...</td>\n",
       "      <td>1.000000</td>\n",
       "      <td>1.000000</td>\n",
       "      <td>1.000000</td>\n",
       "      <td>1.000000</td>\n",
       "      <td>1.000000</td>\n",
       "      <td>1.000000</td>\n",
       "      <td>1.000000</td>\n",
       "      <td>1.000000</td>\n",
       "      <td>1.000000</td>\n",
       "      <td>1.000000</td>\n",
       "    </tr>\n",
       "    <tr>\n",
       "      <th>1</th>\n",
       "      <td>1.000000</td>\n",
       "      <td>1.000000</td>\n",
       "      <td>1.000000</td>\n",
       "      <td>1.000000</td>\n",
       "      <td>1.000000</td>\n",
       "      <td>1.000000</td>\n",
       "      <td>1.000000</td>\n",
       "      <td>1.000000</td>\n",
       "      <td>1.000000</td>\n",
       "      <td>1.000000</td>\n",
       "      <td>...</td>\n",
       "      <td>1.000000</td>\n",
       "      <td>1.000000</td>\n",
       "      <td>1.000000</td>\n",
       "      <td>1.000000</td>\n",
       "      <td>1.000000</td>\n",
       "      <td>1.000000</td>\n",
       "      <td>1.000000</td>\n",
       "      <td>1.000000</td>\n",
       "      <td>1.000000</td>\n",
       "      <td>1.000000</td>\n",
       "    </tr>\n",
       "    <tr>\n",
       "      <th>2</th>\n",
       "      <td>0.968627</td>\n",
       "      <td>0.968627</td>\n",
       "      <td>0.968627</td>\n",
       "      <td>0.968627</td>\n",
       "      <td>0.968627</td>\n",
       "      <td>0.968627</td>\n",
       "      <td>0.968627</td>\n",
       "      <td>0.968627</td>\n",
       "      <td>0.968627</td>\n",
       "      <td>0.968627</td>\n",
       "      <td>...</td>\n",
       "      <td>0.705882</td>\n",
       "      <td>0.701961</td>\n",
       "      <td>0.701961</td>\n",
       "      <td>0.721569</td>\n",
       "      <td>0.694118</td>\n",
       "      <td>0.698039</td>\n",
       "      <td>0.721569</td>\n",
       "      <td>0.603922</td>\n",
       "      <td>0.611765</td>\n",
       "      <td>0.643137</td>\n",
       "    </tr>\n",
       "    <tr>\n",
       "      <th>3</th>\n",
       "      <td>0.854902</td>\n",
       "      <td>0.854902</td>\n",
       "      <td>0.854902</td>\n",
       "      <td>0.854902</td>\n",
       "      <td>0.854902</td>\n",
       "      <td>0.854902</td>\n",
       "      <td>0.854902</td>\n",
       "      <td>0.854902</td>\n",
       "      <td>0.854902</td>\n",
       "      <td>0.854902</td>\n",
       "      <td>...</td>\n",
       "      <td>0.854902</td>\n",
       "      <td>0.854902</td>\n",
       "      <td>0.854902</td>\n",
       "      <td>0.854902</td>\n",
       "      <td>0.854902</td>\n",
       "      <td>0.854902</td>\n",
       "      <td>0.854902</td>\n",
       "      <td>0.854902</td>\n",
       "      <td>0.854902</td>\n",
       "      <td>0.854902</td>\n",
       "    </tr>\n",
       "    <tr>\n",
       "      <th>4</th>\n",
       "      <td>0.788235</td>\n",
       "      <td>0.788235</td>\n",
       "      <td>0.788235</td>\n",
       "      <td>0.788235</td>\n",
       "      <td>0.788235</td>\n",
       "      <td>0.788235</td>\n",
       "      <td>0.788235</td>\n",
       "      <td>0.788235</td>\n",
       "      <td>0.788235</td>\n",
       "      <td>0.792157</td>\n",
       "      <td>...</td>\n",
       "      <td>0.705882</td>\n",
       "      <td>0.709804</td>\n",
       "      <td>0.709804</td>\n",
       "      <td>0.709804</td>\n",
       "      <td>0.713725</td>\n",
       "      <td>0.713725</td>\n",
       "      <td>0.713725</td>\n",
       "      <td>0.717647</td>\n",
       "      <td>0.717647</td>\n",
       "      <td>0.717647</td>\n",
       "    </tr>\n",
       "  </tbody>\n",
       "</table>\n",
       "<p>5 rows × 114810 columns</p>\n",
       "</div>"
      ],
      "text/plain": [
       "     pixel0    pixel1    pixel2    pixel3    pixel4    pixel5    pixel6  \\\n",
       "0  1.000000  1.000000  1.000000  1.000000  1.000000  1.000000  1.000000   \n",
       "1  1.000000  1.000000  1.000000  1.000000  1.000000  1.000000  1.000000   \n",
       "2  0.968627  0.968627  0.968627  0.968627  0.968627  0.968627  0.968627   \n",
       "3  0.854902  0.854902  0.854902  0.854902  0.854902  0.854902  0.854902   \n",
       "4  0.788235  0.788235  0.788235  0.788235  0.788235  0.788235  0.788235   \n",
       "\n",
       "     pixel7    pixel8    pixel9  ...  pixel114800  pixel114801  pixel114802  \\\n",
       "0  1.000000  1.000000  1.000000  ...     1.000000     1.000000     1.000000   \n",
       "1  1.000000  1.000000  1.000000  ...     1.000000     1.000000     1.000000   \n",
       "2  0.968627  0.968627  0.968627  ...     0.705882     0.701961     0.701961   \n",
       "3  0.854902  0.854902  0.854902  ...     0.854902     0.854902     0.854902   \n",
       "4  0.788235  0.788235  0.792157  ...     0.705882     0.709804     0.709804   \n",
       "\n",
       "   pixel114803  pixel114804  pixel114805  pixel114806  pixel114807  \\\n",
       "0     1.000000     1.000000     1.000000     1.000000     1.000000   \n",
       "1     1.000000     1.000000     1.000000     1.000000     1.000000   \n",
       "2     0.721569     0.694118     0.698039     0.721569     0.603922   \n",
       "3     0.854902     0.854902     0.854902     0.854902     0.854902   \n",
       "4     0.709804     0.713725     0.713725     0.713725     0.717647   \n",
       "\n",
       "   pixel114808  pixel114809  \n",
       "0     1.000000     1.000000  \n",
       "1     1.000000     1.000000  \n",
       "2     0.611765     0.643137  \n",
       "3     0.854902     0.854902  \n",
       "4     0.717647     0.717647  \n",
       "\n",
       "[5 rows x 114810 columns]"
      ]
     },
     "execution_count": 29,
     "metadata": {},
     "output_type": "execute_result"
    }
   ],
   "source": [
    "feat_cols = ['pixel'+str(i) for i in range(img.shape[1])]\n",
    "df = pd.DataFrame(img,columns=feat_cols)\n",
    "df.head()"
   ]
  },
  {
   "cell_type": "markdown",
   "metadata": {},
   "source": [
    "# PCA Using Feature = 5 "
   ]
  },
  {
   "cell_type": "code",
   "execution_count": 35,
   "metadata": {},
   "outputs": [
    {
     "data": {
      "text/html": [
       "<div>\n",
       "<style scoped>\n",
       "    .dataframe tbody tr th:only-of-type {\n",
       "        vertical-align: middle;\n",
       "    }\n",
       "\n",
       "    .dataframe tbody tr th {\n",
       "        vertical-align: top;\n",
       "    }\n",
       "\n",
       "    .dataframe thead th {\n",
       "        text-align: right;\n",
       "    }\n",
       "</style>\n",
       "<table border=\"1\" class=\"dataframe\">\n",
       "  <thead>\n",
       "    <tr style=\"text-align: right;\">\n",
       "      <th></th>\n",
       "      <th>PC1</th>\n",
       "      <th>PC2</th>\n",
       "      <th>PC3</th>\n",
       "      <th>PC4</th>\n",
       "      <th>PC5</th>\n",
       "    </tr>\n",
       "  </thead>\n",
       "  <tbody>\n",
       "    <tr>\n",
       "      <th>0</th>\n",
       "      <td>-65.568381</td>\n",
       "      <td>-19.868132</td>\n",
       "      <td>-23.566057</td>\n",
       "      <td>-34.985366</td>\n",
       "      <td>3.241550e-13</td>\n",
       "    </tr>\n",
       "    <tr>\n",
       "      <th>1</th>\n",
       "      <td>-77.214333</td>\n",
       "      <td>-12.261282</td>\n",
       "      <td>-5.531024</td>\n",
       "      <td>38.553192</td>\n",
       "      <td>3.241550e-13</td>\n",
       "    </tr>\n",
       "    <tr>\n",
       "      <th>2</th>\n",
       "      <td>112.815701</td>\n",
       "      <td>-5.950635</td>\n",
       "      <td>-32.595473</td>\n",
       "      <td>7.684492</td>\n",
       "      <td>3.241550e-13</td>\n",
       "    </tr>\n",
       "    <tr>\n",
       "      <th>3</th>\n",
       "      <td>-6.000943</td>\n",
       "      <td>70.237830</td>\n",
       "      <td>12.245651</td>\n",
       "      <td>-5.259056</td>\n",
       "      <td>3.241550e-13</td>\n",
       "    </tr>\n",
       "    <tr>\n",
       "      <th>4</th>\n",
       "      <td>35.967957</td>\n",
       "      <td>-32.157781</td>\n",
       "      <td>49.446902</td>\n",
       "      <td>-5.993263</td>\n",
       "      <td>3.241550e-13</td>\n",
       "    </tr>\n",
       "  </tbody>\n",
       "</table>\n",
       "</div>"
      ],
      "text/plain": [
       "          PC1        PC2        PC3        PC4           PC5\n",
       "0  -65.568381 -19.868132 -23.566057 -34.985366  3.241550e-13\n",
       "1  -77.214333 -12.261282  -5.531024  38.553192  3.241550e-13\n",
       "2  112.815701  -5.950635 -32.595473   7.684492  3.241550e-13\n",
       "3   -6.000943  70.237830  12.245651  -5.259056  3.241550e-13\n",
       "4   35.967957 -32.157781  49.446902  -5.993263  3.241550e-13"
      ]
     },
     "execution_count": 35,
     "metadata": {},
     "output_type": "execute_result"
    }
   ],
   "source": [
    "pca_shirt = PCA(n_components = 5 )\n",
    "principalComponents_shirt = pca_shirt.fit_transform(df.iloc[:,:-1])\n",
    "\n",
    "# Convert principal components to pandas dataframe \n",
    "principal_shirt_Df = pd.DataFrame(data = principalComponents_shirt\n",
    "             , columns = ['PC1', 'PC2','PC3','PC4','PC5'])\n",
    "principal_shirt_Df.head()"
   ]
  },
  {
   "cell_type": "code",
   "execution_count": 36,
   "metadata": {},
   "outputs": [
    {
     "name": "stdout",
     "output_type": "stream",
     "text": [
      "Explained variation per principal component: [6.40924098e-01 1.72575422e-01 1.11836393e-01 7.46640877e-02\n",
      " 1.38467544e-29]\n"
     ]
    }
   ],
   "source": [
    "print('Explained variation per principal component: {}'.format(pca_shirt.explained_variance_ratio_))"
   ]
  },
  {
   "cell_type": "code",
   "execution_count": 49,
   "metadata": {},
   "outputs": [
    {
     "name": "stdout",
     "output_type": "stream",
     "text": [
      "The cumulative sum of variance is: [0.6409241  0.81349952 0.92533591 1.         1.        ]\n"
     ]
    }
   ],
   "source": [
    "print('The cumulative sum of variance is: {}'.format(np.cumsum(pca_shirt.explained_variance_ratio_)))"
   ]
  },
  {
   "cell_type": "markdown",
   "metadata": {},
   "source": [
    "__These T-shirt image could be characterized by the first 3 features, which covers around 90% of variance in PCA__   \n",
    "__It's quite clear that the last two features are not very important__ "
   ]
  }
 ],
 "metadata": {
  "kernelspec": {
   "display_name": "Python 3",
   "language": "python",
   "name": "python3"
  },
  "language_info": {
   "codemirror_mode": {
    "name": "ipython",
    "version": 3
   },
   "file_extension": ".py",
   "mimetype": "text/x-python",
   "name": "python",
   "nbconvert_exporter": "python",
   "pygments_lexer": "ipython3",
   "version": "3.7.6"
  }
 },
 "nbformat": 4,
 "nbformat_minor": 4
}
