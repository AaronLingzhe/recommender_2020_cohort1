{
 "cells": [
  {
   "cell_type": "code",
   "execution_count": 8,
   "metadata": {},
   "outputs": [],
   "source": [
    "#SSIM是一种全参考的图像质量评价指标，分别从亮度、对比度、结构三个方面度量图像相似性。\n",
    "#SSIM取值范围[0, 1]，值越大，表示图像失真越小。\n",
    "#在实际应用中，可以利用滑动窗将图像分块，令分块总数为N，考虑到窗口形状对分块的影响，\n",
    "#采用高斯加权计算每一窗口的均值、方差以及协方差，然后计算对应块的结构相似度SSIM，\n",
    "#最后将平均值作为两图像的结构相似性度量，即平均结构相似性SSIM。\n",
    "#这个是scikit-image库自带的一种计算方法\n",
    "\n",
    "import cv2\n",
    "import skimage\n",
    "\n",
    "img1 = cv2.imread('image2/1.png')\n",
    "img2 = cv2.imread('image2/2.png')\n",
    "img3 = cv2.imread('image2/3.png')\n",
    "\n",
    "#这里库有点问题，其实可以直接用的\n",
    "ssim1 = compare_ssim(img1, img2, multichannel=True)"
   ]
  },
  {
   "cell_type": "code",
   "execution_count": null,
   "metadata": {},
   "outputs": [],
   "source": [
    "#用Turicreate 去跑别人已经做好的模型\n",
    "#得用苹果机器去跑\n",
    "#本人是windows ，悲剧\n",
    "import turicreate as tc\n",
    "# Load images from the downloaded data\n",
    "reference_data  = tc.image_analysis.load_images('image2、')\n",
    "load_images(url, format='auto', with_path=True, recursive=True, ignore_failure=True, random_order=False)\n",
    "\n",
    "#利用Resnet50数据特征提取\n",
    "create(dataset, label = None, feature = None, model = 'resnet-50', verbose = True)  #model默认使用resnet50,label是标识行，如reference_data中的path\n",
    "model = tc.image_similarity.create(reference_data)\n",
    "model.save('my_model_file')\n",
    "loaded_model = tc.load_model('my_model_file')\n",
    "\n",
    "#通过query查询实现相似搜索\n",
    "similar_images = model.query(reference_data[0:10] ,label = 'path',k=10)\n",
    "similar_images.head()\n",
    " \n",
    "#query(dataset, label=None, k=5, radius=None, verbose=True)\n",
    " #   - dataset:SFrame,需查询的数据\n",
    "#    - label:索引名，选择一列，输入列名\n",
    "#    - k:最大返回样本数\n",
    " #   - radius:半径范围，如果超过radius个间隔，就不显示\n",
    " #   - verbose:打印进度更新和模型细节。\n",
    " \n",
    "#通过similarity_graph实现相似关联图搜索\n",
    "#graph = model.similarity_graph(k=1)  # an SGraph\n",
    " \n",
    "#similarity_graph(k=5, radius=None, include_self_edges=False, output_type='SGraph', verbose=True)\n",
    " #   k:最大返回样本数\n",
    "#    radius:float,半径范围，如果超过radius个间隔，就不显示\n",
    "#    include_self_edges:是否包含自己,True的话，返回的结果包含自己（自己的相似性为1）\n",
    " #   output_type:‘SGraph’, ‘SFrame’两种\n",
    " #   verbose:打印进度更新和模型细节。\n",
    " \n",
    "graph.edges\n"
   ]
  }
 ],
 "metadata": {
  "kernelspec": {
   "display_name": "Python 3",
   "language": "python",
   "name": "python3"
  },
  "language_info": {
   "codemirror_mode": {
    "name": "ipython",
    "version": 3
   },
   "file_extension": ".py",
   "mimetype": "text/x-python",
   "name": "python",
   "nbconvert_exporter": "python",
   "pygments_lexer": "ipython3",
   "version": "3.8.2"
  }
 },
 "nbformat": 4,
 "nbformat_minor": 4
}
