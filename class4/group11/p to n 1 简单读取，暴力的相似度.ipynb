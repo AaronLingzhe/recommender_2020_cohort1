{
 "cells": [
  {
   "cell_type": "code",
   "execution_count": 7,
   "metadata": {},
   "outputs": [],
   "source": [
    "from PIL import Image\n",
    "#读读片\n",
    "image = Image.open('image2/1.png')"
   ]
  },
  {
   "cell_type": "code",
   "execution_count": 9,
   "metadata": {},
   "outputs": [
    {
     "name": "stdout",
     "output_type": "stream",
     "text": [
      "PNG\n",
      "(136, 207)\n",
      "RGBA\n"
     ]
    }
   ],
   "source": [
    "print(image.format)\n",
    "print(image.size)\n",
    "print(image.mode)\n",
    "# show the image\n",
    "image.show()"
   ]
  },
  {
   "cell_type": "code",
   "execution_count": 13,
   "metadata": {},
   "outputs": [
    {
     "name": "stdout",
     "output_type": "stream",
     "text": [
      "<class 'numpy.ndarray'>\n",
      "(207, 136, 4)\n",
      "<class 'PIL.Image.Image'>\n",
      "RGBA\n",
      "(136, 207)\n"
     ]
    }
   ],
   "source": [
    "#转换 \n",
    "from numpy import asarray\n",
    "\n",
    "data1 = asarray(image)\n",
    "print(type(data1))\n",
    "print(data1.shape)\n",
    "\n",
    "image2 = Image.fromarray(data1)\n",
    "print(type(image2))\n",
    "print(image2.mode)\n",
    "print(image2.size)"
   ]
  },
  {
   "cell_type": "code",
   "execution_count": 14,
   "metadata": {},
   "outputs": [
    {
     "name": "stdout",
     "output_type": "stream",
     "text": [
      "[[[255 255 255 255]\n",
      "  [255 255 255 255]\n",
      "  [255 255 255 255]\n",
      "  ...\n",
      "  [255 255 255 255]\n",
      "  [255 255 255 255]\n",
      "  [255 255 255 255]]\n",
      "\n",
      " [[255 255 255 255]\n",
      "  [255 255 255 255]\n",
      "  [201 201 201 255]\n",
      "  ...\n",
      "  [200 199 205 255]\n",
      "  [200 199 205 255]\n",
      "  [200 199 205 255]]\n",
      "\n",
      " [[255 255 255 255]\n",
      "  [255 255 255 255]\n",
      "  [201 201 201 255]\n",
      "  ...\n",
      "  [200 199 205 255]\n",
      "  [200 199 205 255]\n",
      "  [200 199 205 255]]\n",
      "\n",
      " ...\n",
      "\n",
      " [[255 255 255 255]\n",
      "  [255 255 255 255]\n",
      "  [212 210 221 255]\n",
      "  ...\n",
      "  [179 179 179 255]\n",
      "  [179 179 179 255]\n",
      "  [180 180 180 255]]\n",
      "\n",
      " [[255 255 255 255]\n",
      "  [255 255 255 255]\n",
      "  [255 255 255 255]\n",
      "  ...\n",
      "  [255 255 255 255]\n",
      "  [255 255 255 255]\n",
      "  [255 255 255 255]]\n",
      "\n",
      " [[255 255 255 255]\n",
      "  [255 255 255 255]\n",
      "  [255 255 255 255]\n",
      "  ...\n",
      "  [255 255 255 255]\n",
      "  [255 255 255 255]\n",
      "  [255 255 255 255]]]\n"
     ]
    }
   ],
   "source": [
    "print(data1)"
   ]
  },
  {
   "cell_type": "code",
   "execution_count": 17,
   "metadata": {},
   "outputs": [
    {
     "name": "stdout",
     "output_type": "stream",
     "text": [
      "After resizing: (20, 20, 4)\n"
     ]
    }
   ],
   "source": [
    "import numpy as np\n",
    "#resize pic\n",
    "load_img_rz = np.array(Image.open('image2/1.png').resize((20,20)))\n",
    "Image.fromarray(load_img_rz).save('image2/1_1.png')\n",
    "print(\"After resizing:\",load_img_rz.shape)"
   ]
  },
  {
   "cell_type": "code",
   "execution_count": 26,
   "metadata": {},
   "outputs": [],
   "source": [
    "def resize(a):\n",
    "    load_img_rz = np.array(Image.open('image3/'+a).resize((8,8)))\n",
    "    Image.fromarray(load_img_rz).save('image3/'+a)    \n",
    "\n",
    " "
   ]
  },
  {
   "cell_type": "code",
   "execution_count": 27,
   "metadata": {},
   "outputs": [],
   "source": [
    "#全部resize 成8*8的图片\n",
    "import os,sys\n",
    "name = os.listdir('image3/')\n",
    "for a in name:\n",
    "    resize(a)"
   ]
  },
  {
   "cell_type": "code",
   "execution_count": 28,
   "metadata": {},
   "outputs": [
    {
     "name": "stdout",
     "output_type": "stream",
     "text": [
      "[[[210 210 211 255]\n",
      "  [217 216 214 255]\n",
      "  [201 197 198 255]\n",
      "  [172 121 102 255]\n",
      "  [139 123 131 255]\n",
      "  [185 194 208 255]\n",
      "  [215 212 215 255]\n",
      "  [208 207 212 255]]\n",
      "\n",
      " [[217 216 218 255]\n",
      "  [151 172 197 255]\n",
      "  [ 63 115 168 255]\n",
      "  [ 77 109 144 255]\n",
      "  [ 47 112 168 255]\n",
      "  [ 47 117 179 255]\n",
      "  [ 98 142 185 255]\n",
      "  [197 201 211 255]]\n",
      "\n",
      " [[222 219 223 255]\n",
      "  [ 84 125 175 255]\n",
      "  [ 28 110 175 255]\n",
      "  [ 40 133 183 255]\n",
      "  [ 43 137 184 255]\n",
      "  [ 35 109 168 255]\n",
      "  [ 22  91 161 255]\n",
      "  [126 155 188 255]]\n",
      "\n",
      " [[223 223 227 255]\n",
      "  [154 148 161 255]\n",
      "  [ 46 106 160 255]\n",
      "  [ 43 133 182 255]\n",
      "  [ 42 129 178 255]\n",
      "  [ 32 109 168 255]\n",
      "  [111 123 146 255]\n",
      "  [174 142 128 255]]\n",
      "\n",
      " [[219 214 216 255]\n",
      "  [197 156 139 255]\n",
      "  [ 56 108 158 255]\n",
      "  [ 41 130 181 255]\n",
      "  [ 44 134 183 255]\n",
      "  [ 38 122 176 255]\n",
      "  [155 157 166 255]\n",
      "  [199 138 104 255]]\n",
      "\n",
      " [[219 203 196 255]\n",
      "  [153 135 140 255]\n",
      "  [ 34 108 172 255]\n",
      "  [ 43 131 182 255]\n",
      "  [ 45 139 187 255]\n",
      "  [ 41 130 184 255]\n",
      "  [147 155 167 255]\n",
      "  [186 134 110 255]]\n",
      "\n",
      " [[207 166 150 255]\n",
      "  [114 113 125 255]\n",
      "  [ 34  99 144 255]\n",
      "  [ 43 114 155 255]\n",
      "  [ 44 116 155 255]\n",
      "  [ 38  85 116 255]\n",
      "  [149 126 123 255]\n",
      "  [180 146 132 255]]\n",
      "\n",
      " [[206 165 155 255]\n",
      "  [107  91  92 255]\n",
      "  [ 50  52  63 255]\n",
      "  [ 48  49  59 255]\n",
      "  [ 52  53  62 255]\n",
      "  [ 52  50  57 255]\n",
      "  [167 128 117 255]\n",
      "  [179 160 154 255]]]\n"
     ]
    }
   ],
   "source": [
    "#全部变成向量，每一个向量代表一个像素\n",
    "image1 = Image.open('image3/1.png')\n",
    "data1 = asarray(image1)\n",
    "print(data1)"
   ]
  },
  {
   "cell_type": "code",
   "execution_count": 70,
   "metadata": {},
   "outputs": [],
   "source": [
    "image2 = Image.open('image3/2.png')\n",
    "data2 = asarray(image2)\n",
    "image3 = Image.open('image3/3.png')\n",
    "data3 = asarray(image3)\n",
    "image4 = Image.open('image3/4.png')\n",
    "data4 = asarray(image4)\n",
    "image5 = Image.open('image3/5.png')\n",
    "data5 = asarray(image5)"
   ]
  },
  {
   "cell_type": "code",
   "execution_count": 71,
   "metadata": {},
   "outputs": [],
   "source": [
    "#计算色差,可以无脑用欧氏距离，这里用的是一个加权的欧式距离\n",
    "import math\n",
    "def colordist(a,b):\n",
    "    R=int(a[0])-int(b[0])\n",
    "    G=int(a[1])-int(b[1])\n",
    "    B=int(a[2])-int(b[2])\n",
    "    rmean=(int(a[0])+int(b[0]))/2\n",
    "    return math.sqrt((2+rmean/256)*(R**2)+4*(G**2)+(2+(255-rmean)/256)*(B**2))\n",
    "    "
   ]
  },
  {
   "cell_type": "code",
   "execution_count": 72,
   "metadata": {},
   "outputs": [],
   "source": [
    "#通过3维的色差计算欧式距离\n",
    "def picdist(d1,d2):\n",
    "    d=0  \n",
    "    for i in range(8):\n",
    "        for j in range(8):\n",
    "            d = d+(colordist(d1[i,j],d2[i,j])**2)\n",
    "    return math.sqrt(d)"
   ]
  },
  {
   "cell_type": "code",
   "execution_count": 74,
   "metadata": {},
   "outputs": [
    {
     "name": "stdout",
     "output_type": "stream",
     "text": [
      "1776.1133029296723\n",
      "1232.3002159642856\n",
      "3025.893633176301\n",
      "2849.0605030430647\n"
     ]
    }
   ],
   "source": [
    "print(picdist(data3,data1))\n",
    "print(picdist(data3,data2))\n",
    "print(picdist(data3,data4))\n",
    "print(picdist(data3,data5))\n",
    "#得出和第二件比较接近"
   ]
  },
  {
   "cell_type": "code",
   "execution_count": 76,
   "metadata": {},
   "outputs": [],
   "source": [
    "#转换成灰度，可以1.避免亮度饱和度等对色差的影响 2.计算时候可以使用余弦距离进行计算\n",
    "def hui(a):\n",
    "    load_img_rz = np.array(Image.open('image4/'+a).convert('L'))\n",
    "    Image.fromarray(load_img_rz).save('image4/'+a)    \n",
    "\n",
    "name = os.listdir('image4/')\n",
    "for b in name:\n",
    "    hui(b)"
   ]
  },
  {
   "cell_type": "code",
   "execution_count": 77,
   "metadata": {},
   "outputs": [
    {
     "name": "stdout",
     "output_type": "stream",
     "text": [
      "[[210 216 198 134 129 193 213 208]\n",
      " [217 169 105 103  99 103 134 201]\n",
      " [220 118  93 111 114  94  78 150]\n",
      " [223 151  94 112 109  93 122 150]\n",
      " [216 166  98 109 113 103 157 152]\n",
      " [207 141  93 111 116 110 154 147]\n",
      " [176 115  85  97  99  74 133 155]\n",
      " [176  96  53  50  54  51 138 165]]\n"
     ]
    }
   ],
   "source": [
    "#全部变成向量，每一个数字代表一个像素的灰度\n",
    "image1 = Image.open('image4/1.png')\n",
    "data1 = asarray(image1)\n",
    "print(data1)"
   ]
  },
  {
   "cell_type": "code",
   "execution_count": 81,
   "metadata": {},
   "outputs": [],
   "source": [
    "image2 = Image.open('image4/2.png')\n",
    "data2 = asarray(image2)\n",
    "image3 = Image.open('image4/3.png')\n",
    "data3 = asarray(image3)\n",
    "image4 = Image.open('image4/4.png')\n",
    "data4 = asarray(image4)\n",
    "image5 = Image.open('image4/5.png')\n",
    "data5 = asarray(image5)"
   ]
  },
  {
   "cell_type": "code",
   "execution_count": 94,
   "metadata": {},
   "outputs": [],
   "source": [
    "#通过灰度直接去计算余弦距离\n",
    "import numpy as np\n",
    "import pandas as pd\n",
    "def bit_product_sum(x, y):\n",
    "    return sum([item[0] * item[1] for item in zip(x, y)])\n",
    "\n",
    "def cosine_similarity(x, y):\n",
    "    cos = bit_product_sum(x, y) / (np.sqrt(bit_product_sum(x, x)) * np.sqrt(bit_product_sum(y, y)))\n",
    "    return cos \n"
   ]
  },
  {
   "cell_type": "code",
   "execution_count": 88,
   "metadata": {},
   "outputs": [],
   "source": [
    "def tran64(a):\n",
    "    b=np.zeros(shape=(64))\n",
    "    for i in range(8):\n",
    "        for j in range(8):\n",
    "            b[i*8+j]=int(a[i,j])\n",
    "    return b\n",
    "\n",
    "dat1= tran64(data1)\n",
    "dat2= tran64(data2)\n",
    "dat3= tran64(data3)\n",
    "dat4= tran64(data4)\n",
    "dat5= tran64(data5)"
   ]
  },
  {
   "cell_type": "code",
   "execution_count": 96,
   "metadata": {},
   "outputs": [
    {
     "name": "stdout",
     "output_type": "stream",
     "text": [
      "0.9161593519971645\n",
      "0.9519940477385038\n",
      "0.8464963666587378\n",
      "0.8647158263324242\n"
     ]
    }
   ],
   "source": [
    "print(cosine_similarity(dat3,dat1))\n",
    "print(cosine_similarity(dat3,dat2))\n",
    "print(cosine_similarity(dat3,dat4))\n",
    "print(cosine_similarity(dat3,dat5))"
   ]
  },
  {
   "cell_type": "code",
   "execution_count": null,
   "metadata": {},
   "outputs": [],
   "source": []
  }
 ],
 "metadata": {
  "kernelspec": {
   "display_name": "Python 3",
   "language": "python",
   "name": "python3"
  },
  "language_info": {
   "codemirror_mode": {
    "name": "ipython",
    "version": 3
   },
   "file_extension": ".py",
   "mimetype": "text/x-python",
   "name": "python",
   "nbconvert_exporter": "python",
   "pygments_lexer": "ipython3",
   "version": "3.7.6"
  }
 },
 "nbformat": 4,
 "nbformat_minor": 4
}
