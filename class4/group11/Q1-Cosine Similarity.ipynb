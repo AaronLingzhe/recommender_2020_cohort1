{
 "cells": [
  {
   "cell_type": "code",
   "execution_count": 1,
   "metadata": {},
   "outputs": [],
   "source": [
    "import numpy as np\n",
    "import pandas as pd"
   ]
  },
  {
   "cell_type": "code",
   "execution_count": 2,
   "metadata": {},
   "outputs": [],
   "source": [
    "def load_data(path):\n",
    "    data = pd.read_csv(path)\n",
    "\n",
    "    return data"
   ]
  },
  {
   "cell_type": "code",
   "execution_count": 3,
   "metadata": {},
   "outputs": [],
   "source": [
    "def findCosineDistance(dataset):\n",
    "    #subset A to drop item_no column\n",
    "    A = dataset.drop(['item'],axis=1)\n",
    "    A = np.array(A)\n",
    "\n",
    "    similarity = np.dot(A, A.T)\n",
    "    # squared magnitude of preference vectors (number of occurrences)\n",
    "    square_mag = np.diag(similarity)\n",
    "    # inverse squared magnitude\n",
    "    inv_square_mag = 1 / square_mag\n",
    "    # inverse of the magnitude\n",
    "    inv_mag = np.sqrt(inv_square_mag)\n",
    "    # cosine similarity (elementwise multiply by inverse magnitudes)\n",
    "    cosine = similarity * inv_mag\n",
    "    cosine = cosine.T * inv_mag\n",
    "    #minus the diagnal\n",
    "    cos = cosine - np.diag(np.diag(cosine))\n",
    "\n",
    "    return cosine, cos"
   ]
  },
  {
   "cell_type": "code",
   "execution_count": 4,
   "metadata": {},
   "outputs": [],
   "source": [
    "def KNN(A, item_no):\n",
    "    #Ranked shirt number by cosine similarity from low to high \n",
    "    out_arr_index = np.argsort(A[item_no]) \n",
    "    #Output ranked by cosine similarity from low to high\n",
    "    out_arr = A[item_no][out_arr_index]\n",
    "    print (\"Output sorted array indices/ Ranked shirt number by cosine similarity from low to high: \", out_arr_index) \n",
    "    print(\"Output sorted array/ Output ranked by cosine similarity from low to high: \", out_arr)\n",
    "    \n",
    "    return out_arr, out_arr_index"
   ]
  },
  {
   "cell_type": "code",
   "execution_count": 5,
   "metadata": {},
   "outputs": [],
   "source": [
    "def main():\n",
    "    path = 'practice_data.csv'\n",
    "    #Convert the pictures below into item characters\n",
    "    train_data = load_data(path)\n",
    "    #Write Calculation of cosine similarity\n",
    "    cosine, cos = findCosineDistance(train_data)\n",
    "    print(cos)\n",
    "    #KNN\n",
    "    out_arr, out_arr_index = KNN(cos, 1)"
   ]
  },
  {
   "cell_type": "code",
   "execution_count": 6,
   "metadata": {},
   "outputs": [
    {
     "name": "stdout",
     "output_type": "stream",
     "text": [
      "[[0.         0.69624472 0.69337525 0.44124827 0.3363364 ]\n",
      " [0.69624472 0.         0.48669974 0.45005759 0.36033882]\n",
      " [0.69337525 0.48669974 0.         0.10375717 0.36380344]\n",
      " [0.44124827 0.45005759 0.10375717 0.         0.38586042]\n",
      " [0.3363364  0.36033882 0.36380344 0.38586042 0.        ]]\n",
      "Output sorted array indices/ Ranked shirt number by cosine similarity from low to high:  [1 4 3 2 0]\n",
      "Output sorted array/ Output ranked by cosine similarity from low to high:  [0.         0.36033882 0.45005759 0.48669974 0.69624472]\n"
     ]
    }
   ],
   "source": [
    "if __name__ == '__main__':\n",
    "    main()"
   ]
  },
  {
   "cell_type": "code",
   "execution_count": null,
   "metadata": {},
   "outputs": [],
   "source": []
  }
 ],
 "metadata": {
  "kernelspec": {
   "display_name": "Python 3",
   "language": "python",
   "name": "python3"
  },
  "language_info": {
   "codemirror_mode": {
    "name": "ipython",
    "version": 3
   },
   "file_extension": ".py",
   "mimetype": "text/x-python",
   "name": "python",
   "nbconvert_exporter": "python",
   "pygments_lexer": "ipython3",
   "version": "3.6.9"
  }
 },
 "nbformat": 4,
 "nbformat_minor": 4
}
