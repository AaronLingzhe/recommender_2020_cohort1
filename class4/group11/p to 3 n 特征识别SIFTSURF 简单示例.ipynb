{
 "cells": [
  {
   "cell_type": "code",
   "execution_count": null,
   "metadata": {},
   "outputs": [],
   "source": [
    "#surf 特征提取示例\n",
    "import cv2 \n",
    "import numpy as np \n",
    " \n",
    "img = cv2.imread('image2/3.png')\n",
    " \n",
    "#参数为hessian矩阵的阈值\n",
    "surf = cv2.xfeatures2d.SURF_create(400)\n",
    "#找到关键点和描述符\n",
    "key_query,desc_query = surf.detectAndCompute(img,None)\n",
    "#把特征点标记到图片上\n",
    "img=cv2.drawKeypoints(img,key_query,img)\n",
    " \n",
    "cv2.imshow('sp',img)\n",
    "cv2.waitKey(0)"
   ]
  },
  {
   "cell_type": "code",
   "execution_count": null,
   "metadata": {},
   "outputs": [],
   "source": []
  }
 ],
 "metadata": {
  "kernelspec": {
   "display_name": "Python 3",
   "language": "python",
   "name": "python3"
  },
  "language_info": {
   "codemirror_mode": {
    "name": "ipython",
    "version": 3
   },
   "file_extension": ".py",
   "mimetype": "text/x-python",
   "name": "python",
   "nbconvert_exporter": "python",
   "pygments_lexer": "ipython3",
   "version": "3.7.6"
  }
 },
 "nbformat": 4,
 "nbformat_minor": 4
}
