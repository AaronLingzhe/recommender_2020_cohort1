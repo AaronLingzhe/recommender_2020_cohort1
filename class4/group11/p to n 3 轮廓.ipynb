{
 "cells": [
  {
   "cell_type": "code",
   "execution_count": null,
   "metadata": {},
   "outputs": [],
   "source": [
    "#可以找轮廓，通过找轮廓去比较，但是自己用下来不行，只是一个设想\n",
    "import cv2\n",
    " \n",
    "img = cv2.imread('image2/3.png')\n",
    "# 灰度图像\n",
    "gray = cv2.cvtColor(img, cv2.COLOR_BGR2GRAY)\n",
    "# 二值化\n",
    "ret, binary = cv2.threshold(gray, 175, 255, cv2.THRESH_BINARY)\n",
    "img1, contours, hierarchy = cv2.findContours(binary, cv2.RETR_TREE, cv2.CHAIN_APPROX_SIMPLE)\n",
    " \n",
    "#画出轮廓\n",
    "cv2.drawContours(img, contours, -1, (0, 0, 255), 3)\n",
    " \n",
    "cv2.imshow(\"img\", img)\n",
    "cv2.waitKey(0)\n",
    "\n",
    "print(len(contours))"
   ]
  },
  {
   "cell_type": "code",
   "execution_count": null,
   "metadata": {},
   "outputs": [],
   "source": [
    "#找点，去做特征提取，这里采用SUFT，主要是针对一些由于角度不一样，大小不一样等因素使得形状看着不一样的问题进行处理\n",
    "#简单来说就是找角点，有比如SIFT / SURF / ORB等方法\n",
    "\n",
    "import cv2\n",
    "import numpy as np \n",
    "from matplotlib import pyplot as plt\n",
    "import os\n",
    "import math\n"
   ]
  },
  {
   "cell_type": "code",
   "execution_count": null,
   "metadata": {},
   "outputs": [],
   "source": [
    "\n",
    "def getMatchNum(matches,ratio):\n",
    "    '''返回特征点匹配数量和匹配掩码'''\n",
    "    matchesMask=[[0,0] for i in range(len(matches))]\n",
    "    matchNum=0\n",
    "    for i,(m,n) in enumerate(matches):\n",
    "        if m.distance<ratio*n.distance: #将距离比率小于ratio的匹配点删选出来\n",
    "            matchesMask[i]=[1,0]\n",
    "            matchNum+=1\n",
    "    return (matchNum,matchesMask)\n",
    "\n",
    "path='image2/'\n",
    "queryPath=path #图库路径\n",
    "samplePath=path+'3.jpg' #样本图片\n",
    "comparisonImageList=[] #记录比较结果\n",
    "\n",
    "#创建SIFT特征提取器\n",
    "sift = cv2.xfeatures2d.SIFT_create() \n",
    "#创建FLANN匹配对象\n",
    "FLANN_INDEX_KDTREE=0\n",
    "indexParams=dict(algorithm=FLANN_INDEX_KDTREE,trees=5)\n",
    "searchParams=dict(checks=50)\n",
    "flann=cv2.FlannBasedMatcher(indexParams,searchParams)\n",
    "\n",
    "sampleImage=cv2.imread(samplePath,0)\n",
    "kp1, des1 = sift.detectAndCompute(sampleImage, None) #提取样本图片的特征\n",
    "for parent,dirnames,filenames in os.walk(queryPath):\n",
    "    for p in filenames:\n",
    "        p=queryPath+p\n",
    "        queryImage=cv2.imread(p,0)\n",
    "        kp2, des2 = sift.detectAndCompute(queryImage, None) #提取比对图片的特征\n",
    "        matches=flann.knnMatch(des1,des2,k=2) #匹配特征点，为了删选匹配点，指定k为2，这样对样本图的每个特征点，返回两个匹配\n",
    "        (matchNum,matchesMask)=getMatchNum(matches,0.9) #通过比率条件，计算出匹配程度\n",
    "        matchRatio=matchNum*100/len(matches)\n",
    "        drawParams=dict(matchColor=(0,255,0),\n",
    "                singlePointColor=(255,0,0),\n",
    "                matchesMask=matchesMask,\n",
    "                flags=0)\n",
    "        comparisonImage=cv2.drawMatchesKnn(sampleImage,kp1,queryImage,kp2,matches,None,**drawParams)\n",
    "        comparisonImageList.append((comparisonImage,matchRatio)) #记录下结果\n",
    "\n",
    "comparisonImageList.sort(key=lambda x:x[1],reverse=True) #按照匹配度排序\n",
    "count=len(comparisonImageList)\n",
    "column=4\n",
    "row=math.ceil(count/column)\n",
    "#绘图显示\n",
    "figure,ax=plt.subplots(row,column)\n",
    "for index,(image,ratio) in enumerate(comparisonImageList):\n",
    "    ax[int(index/column)][index%column].set_title('Similiarity %.2f%%' % ratio)\n",
    "    ax[int(index/column)][index%column].imshow(image)\n",
    "plt.show()\n"
   ]
  },
  {
   "cell_type": "code",
   "execution_count": null,
   "metadata": {},
   "outputs": [],
   "source": []
  },
  {
   "cell_type": "code",
   "execution_count": null,
   "metadata": {},
   "outputs": [],
   "source": []
  }
 ],
 "metadata": {
  "kernelspec": {
   "display_name": "Python 3",
   "language": "python",
   "name": "python3"
  },
  "language_info": {
   "codemirror_mode": {
    "name": "ipython",
    "version": 3
   },
   "file_extension": ".py",
   "mimetype": "text/x-python",
   "name": "python",
   "nbconvert_exporter": "python",
   "pygments_lexer": "ipython3",
   "version": "3.7.6"
  }
 },
 "nbformat": 4,
 "nbformat_minor": 4
}
