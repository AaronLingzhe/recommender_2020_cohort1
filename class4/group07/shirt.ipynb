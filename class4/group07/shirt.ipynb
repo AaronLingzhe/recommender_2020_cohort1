{
 "cells": [
  {
   "cell_type": "code",
   "execution_count": 1,
   "metadata": {},
   "outputs": [],
   "source": [
    "import pandas as pd\n",
    "import numpy as np\n",
    "import math\n",
    "import matplotlib.pyplot as plt\n",
    "%matplotlib inline\n",
    "from skimage.io import imread"
   ]
  },
  {
   "cell_type": "markdown",
   "metadata": {},
   "source": [
    "# Prepare Data"
   ]
  },
  {
   "cell_type": "code",
   "execution_count": 20,
   "metadata": {},
   "outputs": [],
   "source": [
    "data = pd.read_excel('exercise.xlsx',head=True)"
   ]
  },
  {
   "cell_type": "code",
   "execution_count": 21,
   "metadata": {},
   "outputs": [
    {
     "data": {
      "text/html": [
       "<div>\n",
       "<style scoped>\n",
       "    .dataframe tbody tr th:only-of-type {\n",
       "        vertical-align: middle;\n",
       "    }\n",
       "\n",
       "    .dataframe tbody tr th {\n",
       "        vertical-align: top;\n",
       "    }\n",
       "\n",
       "    .dataframe thead th {\n",
       "        text-align: right;\n",
       "    }\n",
       "</style>\n",
       "<table border=\"1\" class=\"dataframe\">\n",
       "  <thead>\n",
       "    <tr style=\"text-align: right;\">\n",
       "      <th></th>\n",
       "      <th>gender</th>\n",
       "      <th>short</th>\n",
       "      <th>color</th>\n",
       "    </tr>\n",
       "  </thead>\n",
       "  <tbody>\n",
       "    <tr>\n",
       "      <th>0</th>\n",
       "      <td>1</td>\n",
       "      <td>1</td>\n",
       "      <td>3</td>\n",
       "    </tr>\n",
       "    <tr>\n",
       "      <th>1</th>\n",
       "      <td>1</td>\n",
       "      <td>0</td>\n",
       "      <td>5</td>\n",
       "    </tr>\n",
       "    <tr>\n",
       "      <th>2</th>\n",
       "      <td>1</td>\n",
       "      <td>1</td>\n",
       "      <td>4</td>\n",
       "    </tr>\n",
       "    <tr>\n",
       "      <th>3</th>\n",
       "      <td>0</td>\n",
       "      <td>1</td>\n",
       "      <td>0</td>\n",
       "    </tr>\n",
       "    <tr>\n",
       "      <th>4</th>\n",
       "      <td>0</td>\n",
       "      <td>0</td>\n",
       "      <td>1</td>\n",
       "    </tr>\n",
       "  </tbody>\n",
       "</table>\n",
       "</div>"
      ],
      "text/plain": [
       "   gender  short  color\n",
       "0       1      1      3\n",
       "1       1      0      5\n",
       "2       1      1      4\n",
       "3       0      1      0\n",
       "4       0      0      1"
      ]
     },
     "execution_count": 21,
     "metadata": {},
     "output_type": "execute_result"
    }
   ],
   "source": [
    "data = data.drop(columns=\"id\")\n",
    "data"
   ]
  },
  {
   "cell_type": "code",
   "execution_count": 4,
   "metadata": {},
   "outputs": [],
   "source": [
    "product = np.array(data)"
   ]
  },
  {
   "cell_type": "markdown",
   "metadata": {},
   "source": [
    "# Cosine Similarity"
   ]
  },
  {
   "cell_type": "code",
   "execution_count": 5,
   "metadata": {},
   "outputs": [],
   "source": [
    "from math import sqrt\n",
    "def cosine_similarity(v1,v2):\n",
    "    sumxx,sumxy,sumyy = 0,0,0\n",
    "    for i in range(len(v1)):\n",
    "        x = v1[i]\n",
    "        y = v2[i]\n",
    "        \n",
    "        sumxx += x*x\n",
    "        sumyy += y*y\n",
    "        sumxy += x*y\n",
    "    return round(sumxy/math.sqrt(sumxx*sumyy),2)"
   ]
  },
  {
   "cell_type": "code",
   "execution_count": 6,
   "metadata": {},
   "outputs": [
    {
     "data": {
      "text/plain": [
       "0.97"
      ]
     },
     "execution_count": 6,
     "metadata": {},
     "output_type": "execute_result"
    }
   ],
   "source": [
    "# Test of cosine_similarity function\n",
    "cosine_similarity(product[1],product[2])"
   ]
  },
  {
   "cell_type": "markdown",
   "metadata": {},
   "source": [
    "# KNN "
   ]
  },
  {
   "cell_type": "code",
   "execution_count": 7,
   "metadata": {},
   "outputs": [],
   "source": [
    "def knn(product,k):\n",
    "    neighbors = {}\n",
    "    for i in range(len(product)):\n",
    "        dist = {}\n",
    "        for j in range(len(product)):\n",
    "            dist[j] = cosine_similarity(product[i],product[j])\n",
    "        neighbors[i] = sorted(dist.items(),key=lambda x:x[1],reverse=True)[1:k+1]\n",
    "        print('Product ' + str(i) +'s neighbors is: ' + str(neighbors[i] ))"
   ]
  },
  {
   "cell_type": "code",
   "execution_count": 18,
   "metadata": {},
   "outputs": [
    {
     "data": {
      "text/plain": [
       "array([[1, 1, 3],\n",
       "       [1, 0, 5],\n",
       "       [1, 1, 4],\n",
       "       [0, 1, 0],\n",
       "       [0, 0, 1]], dtype=int64)"
      ]
     },
     "execution_count": 18,
     "metadata": {},
     "output_type": "execute_result"
    }
   ],
   "source": [
    "product"
   ]
  },
  {
   "cell_type": "code",
   "execution_count": 22,
   "metadata": {},
   "outputs": [
    {
     "name": "stdout",
     "output_type": "stream",
     "text": [
      "Product 0s neighbors is: [(2, 0.99), (1, 0.95), (4, 0.9)]\n",
      "Product 1s neighbors is: [(4, 0.98), (2, 0.97), (0, 0.95)]\n",
      "Product 2s neighbors is: [(0, 0.99), (1, 0.97), (4, 0.94)]\n",
      "Product 3s neighbors is: [(0, 0.3), (2, 0.24), (1, 0.0)]\n",
      "Product 4s neighbors is: [(1, 0.98), (2, 0.94), (0, 0.9)]\n"
     ]
    }
   ],
   "source": [
    "knn(product,3)"
   ]
  },
  {
   "cell_type": "markdown",
   "metadata": {},
   "source": [
    "# Read picture features"
   ]
  },
  {
   "cell_type": "markdown",
   "metadata": {},
   "source": [
    "## Load Images"
   ]
  },
  {
   "cell_type": "code",
   "execution_count": 9,
   "metadata": {},
   "outputs": [
    {
     "name": "stdout",
     "output_type": "stream",
     "text": [
      "(177, 118, 4)\n",
      "(215, 178, 4)\n",
      "(215, 143, 4)\n",
      "(196, 157, 4)\n",
      "(196, 111, 4)\n"
     ]
    }
   ],
   "source": [
    "for i in range(5):\n",
    "    file_name = 'Shirt\\\\'+str(i)+'.png'\n",
    "\n",
    "    image = imread(file_name)\n",
    "    print(image.shape)"
   ]
  },
  {
   "cell_type": "markdown",
   "metadata": {},
   "source": [
    "## Drop Alpha Chanel "
   ]
  },
  {
   "cell_type": "code",
   "execution_count": 10,
   "metadata": {},
   "outputs": [
    {
     "name": "stdout",
     "output_type": "stream",
     "text": [
      "(177, 118, 3)\n",
      "(215, 178, 3)\n",
      "(215, 143, 3)\n",
      "(196, 157, 3)\n",
      "(196, 111, 3)\n"
     ]
    }
   ],
   "source": [
    "for i in range(5):\n",
    "    file_name = 'Shirt\\\\'+str(i)+'.png'\n",
    "\n",
    "    image = imread(file_name)[:,:,:3]\n",
    "    print(image.shape)"
   ]
  },
  {
   "cell_type": "markdown",
   "metadata": {},
   "source": [
    "## Resize "
   ]
  },
  {
   "cell_type": "code",
   "execution_count": 11,
   "metadata": {},
   "outputs": [],
   "source": [
    "min_height = 177\n",
    "min_width = 111"
   ]
  },
  {
   "cell_type": "code",
   "execution_count": 12,
   "metadata": {},
   "outputs": [
    {
     "name": "stdout",
     "output_type": "stream",
     "text": [
      "(177, 111, 3)\n",
      "(177, 111, 3)\n",
      "(177, 111, 3)\n",
      "(177, 111, 3)\n",
      "(177, 111, 3)\n"
     ]
    }
   ],
   "source": [
    "images = {}\n",
    "for i in range(5):\n",
    "    file_name = 'Shirt\\\\'+str(i)+'.png'\n",
    "    image = imread(file_name)[:,:,:3]\n",
    "    width = len(image[0])\n",
    "    start = (width-min_width)//2\n",
    "    image = image[:min_height,start:start+min_width,:]\n",
    "    images[i] = image\n",
    "    print(image.shape)"
   ]
  },
  {
   "cell_type": "markdown",
   "metadata": {},
   "source": [
    "##  Mean Pixel Value Features"
   ]
  },
  {
   "cell_type": "code",
   "execution_count": 13,
   "metadata": {},
   "outputs": [],
   "source": [
    "products_image = []\n",
    "for key in images:\n",
    "    feature_matrix = np.zeros((177,111))\n",
    "    image = images[key]\n",
    "\n",
    "    for i in range(image.shape[0]):\n",
    "        for j in range(image.shape[1]):\n",
    "            feature_matrix[i][j] = int((int(image[i,j,0]) + int(image[i,j,1]) + int(image[i,j,2]))/3)\n",
    "    images[key] = np.reshape(feature_matrix,(177,111))\n",
    "    products_image.append(images[key][0])"
   ]
  },
  {
   "cell_type": "code",
   "execution_count": 14,
   "metadata": {},
   "outputs": [
    {
     "data": {
      "text/plain": [
       "[array([202., 202., 203., 203., 203., 202., 202., 203., 203., 203., 204.,\n",
       "        204., 204., 206., 206., 206., 206., 207., 207., 208., 208., 209.,\n",
       "        209., 209., 209., 209., 209., 209., 209., 212., 212., 212., 212.,\n",
       "        213., 213., 215., 215., 137., 105., 126., 141., 136., 115.,  97.,\n",
       "        124., 116., 135., 155., 167., 172., 168., 150., 130., 132., 104.,\n",
       "         69., 113., 124., 152., 158., 151., 154.,  82.,  49., 207., 219.,\n",
       "        207., 216., 202., 210., 209., 209., 210., 210., 211., 212., 212.,\n",
       "        210., 210., 209., 209., 209., 208., 208., 208., 209., 209., 208.,\n",
       "        208., 208., 207., 207., 207., 206., 206., 206., 206., 205., 205.,\n",
       "        205., 204., 201., 201., 202., 202., 202., 202., 203., 203., 201.,\n",
       "        201.]),\n",
       " array([218., 218., 218., 218., 218., 218., 218., 218., 218., 218., 218.,\n",
       "        218., 218., 218., 218., 218., 218., 218., 218., 218., 218., 218.,\n",
       "        218., 218., 218., 218., 218., 218., 218., 218., 218., 224., 219.,\n",
       "        214., 213., 218., 219., 213., 204., 207., 215., 218., 212., 211.,\n",
       "        218., 224., 223., 213., 222., 221., 216., 214., 207., 210., 229.,\n",
       "        223., 214., 211., 220., 225., 222., 216., 215., 217., 218., 219.,\n",
       "        219., 217., 217., 218., 219., 218., 218., 218., 218., 218., 218.,\n",
       "        218., 218., 218., 218., 218., 218., 218., 218., 218., 218., 218.,\n",
       "        218., 218., 218., 218., 218., 218., 218., 218., 218., 218., 218.,\n",
       "        218., 218., 218., 218., 218., 218., 218., 218., 218., 218., 218.,\n",
       "        218.]),\n",
       " array([248., 248., 248., 248., 248., 248., 248., 248., 250., 250., 250.,\n",
       "        250., 250., 250., 250., 250., 246., 246., 246., 246., 246., 246.,\n",
       "        246., 246., 246., 246., 246., 246., 246., 246., 246., 246., 250.,\n",
       "        236., 252., 249., 246., 244., 207., 171., 155., 125., 114., 135.,\n",
       "        151., 143., 136., 142., 141., 147., 153., 152., 145., 134., 129.,\n",
       "        127.,  99.,  92.,  79.,  66.,  57.,  53.,  54.,  55.,  55.,  40.,\n",
       "         45.,  63.,  79.,  67., 109., 232., 237., 239., 236., 237., 244.,\n",
       "        239., 237., 246., 243., 243., 243., 244., 244., 244., 245., 245.,\n",
       "        244., 244., 243., 243., 243., 242., 242., 242., 242., 242., 242.,\n",
       "        242., 242., 242., 242., 242., 242., 241., 241., 241., 240., 240.,\n",
       "        240.]),\n",
       " array([255., 255., 255., 255., 255., 255., 255., 255., 255., 255., 255.,\n",
       "        255., 255., 255., 255., 255., 255., 255., 255., 255., 255., 255.,\n",
       "        255., 255., 255., 254., 254., 255., 255., 255., 255., 255., 255.,\n",
       "        255., 255., 254., 254., 254., 254., 253., 252., 241., 253., 253.,\n",
       "        245., 254., 238., 130.,  40.,  14.,  87., 108., 160., 179., 204.,\n",
       "        204., 191., 175., 119.,  99., 173., 208., 200., 221., 211., 225.,\n",
       "        206., 192., 196., 205., 210., 221., 230., 222., 213., 213., 202.,\n",
       "        183., 186., 176., 138., 136., 151., 140., 165., 193., 151., 165.,\n",
       "          9.,  12., 104., 236., 252., 247., 249., 254., 254., 254., 253.,\n",
       "        253., 253., 254., 253., 253., 253., 255., 255., 255., 255., 255.,\n",
       "        255.]),\n",
       " array([255., 255., 255., 255., 255., 255., 255., 255., 255., 255., 255.,\n",
       "        255., 255., 255., 255., 255., 255., 255., 255., 255., 255., 255.,\n",
       "        255., 255., 255., 255., 255., 255., 255., 255., 255., 255., 255.,\n",
       "        255., 255., 255., 255., 255., 255., 255., 255., 255., 255., 255.,\n",
       "        255., 255., 255., 254., 254., 248., 255., 253., 242., 250., 253.,\n",
       "        250., 247., 253., 253., 251., 236., 212., 176., 145., 166., 193.,\n",
       "        228., 250., 254., 235., 253., 240., 246., 252., 253., 236., 254.,\n",
       "        254., 234., 254., 255., 255., 255., 255., 255., 255., 255., 255.,\n",
       "        255., 255., 255., 255., 255., 255., 255., 255., 255., 255., 255.,\n",
       "        255., 255., 255., 255., 255., 255., 255., 255., 255., 255., 255.,\n",
       "        255.])]"
      ]
     },
     "execution_count": 14,
     "metadata": {},
     "output_type": "execute_result"
    }
   ],
   "source": [
    "products_image"
   ]
  },
  {
   "cell_type": "markdown",
   "metadata": {},
   "source": [
    "# Products_image KNN "
   ]
  },
  {
   "cell_type": "code",
   "execution_count": 23,
   "metadata": {},
   "outputs": [
    {
     "name": "stdout",
     "output_type": "stream",
     "text": [
      "Product 0s neighbors is: [(1, 0.98), (4, 0.98), (2, 0.97)]\n",
      "Product 1s neighbors is: [(4, 1.0), (0, 0.98), (3, 0.97)]\n",
      "Product 2s neighbors is: [(0, 0.97), (4, 0.96), (1, 0.95)]\n",
      "Product 3s neighbors is: [(1, 0.97), (4, 0.97), (0, 0.95)]\n",
      "Product 4s neighbors is: [(4, 1.0), (0, 0.98), (3, 0.97)]\n"
     ]
    }
   ],
   "source": [
    "knn(products_image,3)"
   ]
  },
  {
   "cell_type": "markdown",
   "metadata": {},
   "source": [
    "# Combined "
   ]
  },
  {
   "cell_type": "code",
   "execution_count": 16,
   "metadata": {},
   "outputs": [
    {
     "data": {
      "text/plain": [
       "array([[  1.,   1.,   3., 202., 202., 203., 203., 203., 202., 202., 203.,\n",
       "        203., 203., 204., 204., 204., 206., 206., 206., 206., 207., 207.,\n",
       "        208., 208., 209., 209., 209., 209., 209., 209., 209., 209., 212.,\n",
       "        212., 212., 212., 213., 213., 215., 215., 137., 105., 126., 141.,\n",
       "        136., 115.,  97., 124., 116., 135., 155., 167., 172., 168., 150.,\n",
       "        130., 132., 104.,  69., 113., 124., 152., 158., 151., 154.,  82.,\n",
       "         49., 207., 219., 207., 216., 202., 210., 209., 209., 210., 210.,\n",
       "        211., 212., 212., 210., 210., 209., 209., 209., 208., 208., 208.,\n",
       "        209., 209., 208., 208., 208., 207., 207., 207., 206., 206., 206.,\n",
       "        206., 205., 205., 205., 204., 201., 201., 202., 202., 202., 202.,\n",
       "        203., 203., 201., 201.],\n",
       "       [  1.,   0.,   5., 218., 218., 218., 218., 218., 218., 218., 218.,\n",
       "        218., 218., 218., 218., 218., 218., 218., 218., 218., 218., 218.,\n",
       "        218., 218., 218., 218., 218., 218., 218., 218., 218., 218., 218.,\n",
       "        218., 224., 219., 214., 213., 218., 219., 213., 204., 207., 215.,\n",
       "        218., 212., 211., 218., 224., 223., 213., 222., 221., 216., 214.,\n",
       "        207., 210., 229., 223., 214., 211., 220., 225., 222., 216., 215.,\n",
       "        217., 218., 219., 219., 217., 217., 218., 219., 218., 218., 218.,\n",
       "        218., 218., 218., 218., 218., 218., 218., 218., 218., 218., 218.,\n",
       "        218., 218., 218., 218., 218., 218., 218., 218., 218., 218., 218.,\n",
       "        218., 218., 218., 218., 218., 218., 218., 218., 218., 218., 218.,\n",
       "        218., 218., 218., 218.],\n",
       "       [  1.,   1.,   4., 248., 248., 248., 248., 248., 248., 248., 248.,\n",
       "        250., 250., 250., 250., 250., 250., 250., 250., 246., 246., 246.,\n",
       "        246., 246., 246., 246., 246., 246., 246., 246., 246., 246., 246.,\n",
       "        246., 246., 250., 236., 252., 249., 246., 244., 207., 171., 155.,\n",
       "        125., 114., 135., 151., 143., 136., 142., 141., 147., 153., 152.,\n",
       "        145., 134., 129., 127.,  99.,  92.,  79.,  66.,  57.,  53.,  54.,\n",
       "         55.,  55.,  40.,  45.,  63.,  79.,  67., 109., 232., 237., 239.,\n",
       "        236., 237., 244., 239., 237., 246., 243., 243., 243., 244., 244.,\n",
       "        244., 245., 245., 244., 244., 243., 243., 243., 242., 242., 242.,\n",
       "        242., 242., 242., 242., 242., 242., 242., 242., 242., 241., 241.,\n",
       "        241., 240., 240., 240.],\n",
       "       [  0.,   1.,   0., 255., 255., 255., 255., 255., 255., 255., 255.,\n",
       "        255., 255., 255., 255., 255., 255., 255., 255., 255., 255., 255.,\n",
       "        255., 255., 255., 255., 255., 255., 254., 254., 255., 255., 255.,\n",
       "        255., 255., 255., 255., 255., 254., 254., 254., 254., 253., 252.,\n",
       "        241., 253., 253., 245., 254., 238., 130.,  40.,  14.,  87., 108.,\n",
       "        160., 179., 204., 204., 191., 175., 119.,  99., 173., 208., 200.,\n",
       "        221., 211., 225., 206., 192., 196., 205., 210., 221., 230., 222.,\n",
       "        213., 213., 202., 183., 186., 176., 138., 136., 151., 140., 165.,\n",
       "        193., 151., 165.,   9.,  12., 104., 236., 252., 247., 249., 254.,\n",
       "        254., 254., 253., 253., 253., 254., 253., 253., 253., 255., 255.,\n",
       "        255., 255., 255., 255.],\n",
       "       [  0.,   0.,   1., 255., 255., 255., 255., 255., 255., 255., 255.,\n",
       "        255., 255., 255., 255., 255., 255., 255., 255., 255., 255., 255.,\n",
       "        255., 255., 255., 255., 255., 255., 255., 255., 255., 255., 255.,\n",
       "        255., 255., 255., 255., 255., 255., 255., 255., 255., 255., 255.,\n",
       "        255., 255., 255., 255., 255., 255., 254., 254., 248., 255., 253.,\n",
       "        242., 250., 253., 250., 247., 253., 253., 251., 236., 212., 176.,\n",
       "        145., 166., 193., 228., 250., 254., 235., 253., 240., 246., 252.,\n",
       "        253., 236., 254., 254., 234., 254., 255., 255., 255., 255., 255.,\n",
       "        255., 255., 255., 255., 255., 255., 255., 255., 255., 255., 255.,\n",
       "        255., 255., 255., 255., 255., 255., 255., 255., 255., 255., 255.,\n",
       "        255., 255., 255., 255.]])"
      ]
     },
     "execution_count": 16,
     "metadata": {},
     "output_type": "execute_result"
    }
   ],
   "source": [
    "products_combined = np.concatenate((product,products_image),axis=1)\n",
    "products_combined"
   ]
  },
  {
   "cell_type": "code",
   "execution_count": 17,
   "metadata": {},
   "outputs": [
    {
     "name": "stdout",
     "output_type": "stream",
     "text": [
      "Product 0s neighbors is: [(1, 0.98), (4, 0.98)]\n",
      "Product 1s neighbors is: [(4, 1.0), (0, 0.98)]\n",
      "Product 2s neighbors is: [(0, 0.97), (4, 0.96)]\n",
      "Product 3s neighbors is: [(1, 0.97), (4, 0.97)]\n",
      "Product 4s neighbors is: [(4, 1.0), (0, 0.98)]\n"
     ]
    }
   ],
   "source": [
    "knn(products_combined,2)"
   ]
  },
  {
   "cell_type": "markdown",
   "metadata": {},
   "source": [
    "# Add Scalar to Combine "
   ]
  },
  {
   "cell_type": "code",
   "execution_count": 24,
   "metadata": {},
   "outputs": [],
   "source": [
    "from sklearn import preprocessing\n",
    "combine_scaled = preprocessing.scale(products_combined)"
   ]
  },
  {
   "cell_type": "code",
   "execution_count": 25,
   "metadata": {},
   "outputs": [
    {
     "name": "stdout",
     "output_type": "stream",
     "text": [
      "Product 0s neighbors is: [(1, 0.64), (2, -0.26)]\n",
      "Product 1s neighbors is: [(0, 0.64), (4, -0.36)]\n",
      "Product 2s neighbors is: [(4, 0.06), (3, -0.1)]\n",
      "Product 3s neighbors is: [(4, 0.17), (2, -0.1)]\n",
      "Product 4s neighbors is: [(3, 0.17), (2, 0.06)]\n"
     ]
    }
   ],
   "source": [
    "knn(combine_scaled,2)"
   ]
  }
 ],
 "metadata": {
  "kernelspec": {
   "display_name": "Python 3",
   "language": "python",
   "name": "python3"
  },
  "language_info": {
   "codemirror_mode": {
    "name": "ipython",
    "version": 3
   },
   "file_extension": ".py",
   "mimetype": "text/x-python",
   "name": "python",
   "nbconvert_exporter": "python",
   "pygments_lexer": "ipython3",
   "version": "3.7.5"
  },
  "toc": {
   "base_numbering": 1,
   "nav_menu": {},
   "number_sections": true,
   "sideBar": true,
   "skip_h1_title": false,
   "title_cell": "Table of Contents",
   "title_sidebar": "Contents",
   "toc_cell": false,
   "toc_position": {},
   "toc_section_display": true,
   "toc_window_display": false
  }
 },
 "nbformat": 4,
 "nbformat_minor": 2
}
